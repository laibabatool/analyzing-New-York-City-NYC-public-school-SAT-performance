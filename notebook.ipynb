{
 "cells": [
  {
   "cell_type": "markdown",
   "id": "fe0ea788-58dd-459e-8976-fafdb5c05c6d",
   "metadata": {},
   "source": [
    "![New York City schoolbus](schoolbus.jpg)\n",
    "\n",
    "Photo by [Jannis Lucas](https://unsplash.com/@jannis_lucas) on [Unsplash](https://unsplash.com).\n",
    "<br>\n",
    "\n",
    "Every year, American high school students take SATs, which are standardized tests intended to measure literacy, numeracy, and writing skills. There are three sections - reading, math, and writing, each with a **maximum score of 800 points**. These tests are extremely important for students and colleges, as they play a pivotal role in the admissions process.\n",
    "\n",
    "Analyzing the performance of schools is important for a variety of stakeholders, including policy and education professionals, researchers, government, and even parents considering which school their children should attend. \n",
    "\n",
    "You have been provided with a dataset called `schools.csv`, which is previewed below.\n",
    "\n",
    "You have been tasked with answering three key questions about New York City (NYC) public school SAT performance."
   ]
  },
  {
   "cell_type": "markdown",
   "id": "0e5986a7-3a08-4a98-af76-d55f194ab79e",
   "metadata": {},
   "source": [
    "QUESTIONS:\n",
    "\n",
    "Which NYC schools have the best math results?\n",
    "\n",
    "The best math results are at least 80% of the *maximum possible score of 800* for math.\n",
    "Save your results in a pandas DataFrame called best_math_schools, including \"school_name\" and \"average_math\" columns, \n",
    "sorted by \"average_math\" in descending order.\n",
    "What are the top 10 performing schools based on the combined SAT scores?\n",
    "\n",
    "Save your results as a pandas DataFrame called top_10_schools containing the \"school_name\" and a new column named \"total_SAT\", \n",
    "with results ordered by \"total_SAT\" in descending order.\n",
    "\n",
    "Which single borough has the largest standard deviation in the combined SAT score?\n",
    "\n",
    "Save your results as a pandas DataFrame called largest_std_dev.\n",
    "The DataFrame should contain one row, with:\n",
    "\"borough\" - the name of the NYC borough with the largest standard deviation of \"total_SAT\".\n",
    "\"num_schools\" - the number of schools in the borough.\n",
    "\"average_SAT\" - the mean of \"total_SAT\".\n",
    "\"std_SAT\" - the standard deviation of \"total_SAT\".\n",
    "Round all numeric values to two decimal places."
   ]
  },
  {
   "cell_type": "code",
   "execution_count": null,
   "id": "7d044840-51b5-48c2-9f6b-3d4c319a6ed0",
   "metadata": {},
   "outputs": [],
   "source": [
    "# task \n",
    "# 80% score --filter\n",
    "# best_maths_school -- school_name , average_math\n",
    "# best_maths_school variable sorted in descending order"
   ]
  },
  {
   "cell_type": "code",
   "execution_count": null,
   "id": "d0eb4f16-5a99-460d-a5ba-706b7ef0bbe7",
   "metadata": {
    "executionCancelledAt": null,
    "executionTime": 27,
    "id": "bA5ajAmk7XH6",
    "lastExecutedAt": 1721429565162,
    "lastExecutedByKernel": "34df1136-a01a-4dc6-a248-52bb3fa25dae",
    "lastScheduledRunId": null,
    "lastSuccessfullyExecutedCode": "# Re-run this cell \nimport pandas as pd\n\n# Read in the data\nschools = pd.read_csv(\"schools.csv\")\n\n# Preview the data\nschools.head()\n\n# Start coding here...\n# Add as many cells as you like...",
    "outputsMetadata": {
     "0": {
      "height": 213,
      "type": "dataFrame"
     }
    }
   },
   "outputs": [],
   "source": [
    "# Re-run this cell \n",
    "import pandas as pd\n",
    "\n",
    "# Read in the data\n",
    "schools = pd.read_csv(\"schools.csv\")\n",
    "\n",
    "# Preview the data\n",
    "schools.head()\n",
    "\n",
    "# Start coding here...\n",
    "# Add as many cells as you like..."
   ]
  },
  {
   "cell_type": "code",
   "execution_count": null,
   "id": "a9b5a406-997c-43f7-a7ec-15ed8d65e723",
   "metadata": {
    "executionCancelledAt": null,
    "executionTime": 56,
    "lastExecutedAt": 1721429565218,
    "lastExecutedByKernel": "34df1136-a01a-4dc6-a248-52bb3fa25dae",
    "lastScheduledRunId": null,
    "lastSuccessfullyExecutedCode": "best_math_schools = schools[schools['average_math'] >= 640][['school_name','average_math']].sort_values('average_math',ascending=False)\nprint(best_math_schools.head())",
    "outputsMetadata": {
     "0": {
      "height": 143,
      "type": "stream"
     }
    }
   },
   "outputs": [],
   "source": [
    "best_math_schools =schools[schools['average_math'] >= 640] [['school_name','average_math']].sort_values('average_math',ascending=False)\n",
    "print(best_math_schools.head())"
   ]
  },
  {
   "cell_type": "code",
   "execution_count": null,
   "id": "9cb1ebff-4f77-44ef-a6b7-e8f042379747",
   "metadata": {
    "executionCancelledAt": null,
    "executionTime": 51,
    "lastExecutedAt": 1721429565269,
    "lastExecutedByKernel": "34df1136-a01a-4dc6-a248-52bb3fa25dae",
    "lastScheduledRunId": null,
    "lastSuccessfullyExecutedCode": "schools['total_SAT'] =schools['average_math']+schools['average_reading']+schools['average_writing']\ntop_10_schools = schools[['school_name','total_SAT']].sort_values('total_SAT',ascending=False).head(10)\n",
    "outputsMetadata": {
     "0": {
      "height": 143,
      "type": "stream"
     }
    }
   },
   "outputs": [],
   "source": [
    "schools['total_SAT'] =schools['average_math']+schools['average_reading']+schools['average_writing']\n",
    "top_10_schools = schools[['school_name','total_SAT']].sort_values('total_SAT',ascending=False).head(10)\n",
    "top_10_schools"
   ]
  },
  {
   "cell_type": "code",
   "execution_count": 11,
   "id": "5ba3446c-07a3-4406-a666-feea23a75148",
   "metadata": {
    "executionCancelledAt": null,
    "executionTime": 52,
    "lastExecutedAt": 1721429565322,
    "lastExecutedByKernel": "34df1136-a01a-4dc6-a248-52bb3fa25dae",
    "lastScheduledRunId": null,
    "lastSuccessfullyExecutedCode": "borough = schools.groupby('borough')['total_SAT'].agg(['count','mean','std']).round(2)\nprint(borough)",
    "outputsMetadata": {
     "0": {
      "height": 164,
      "type": "stream"
     }
    }
   },
   "outputs": [
    {
     "name": "stdout",
     "output_type": "stream",
     "text": [
      "               count     mean     std\n",
      "borough                              \n",
      "Bronx             98  1202.72  150.39\n",
      "Brooklyn         109  1230.26  154.87\n",
      "Manhattan         89  1340.13  230.29\n",
      "Queens            69  1345.48  195.25\n",
      "Staten Island     10  1439.00  222.30\n"
     ]
    }
   ],
   "source": [
    "borough = schools.groupby('borough')['total_SAT'].agg(['count','mean','std']).round(2)\n",
    "print(borough)"
   ]
  },
  {
   "cell_type": "code",
   "execution_count": null,
   "id": "ca3bf876-c683-4a23-bf0b-2fb9746f792e",
   "metadata": {
    "executionCancelledAt": null,
    "executionTime": 56,
    "lastExecutedAt": 1721429565378,
    "lastExecutedByKernel": "34df1136-a01a-4dc6-a248-52bb3fa25dae",
    "lastScheduledRunId": null,
    "lastSuccessfullyExecutedCode": "largest_std_dev = borough[borough['std']==borough['std'].max()]\nprint(largest_std_dev)",
    "outputsMetadata": {
     "0": {
      "height": 80,
      "type": "stream"
     }
    }
   },
   "outputs": [],
   "source": [
    "largest_std_dev = borough[borough['std']==borough['std'].max()]\n",
    "print(largest_std_dev)"
   ]
  },
  {
   "cell_type": "code",
   "execution_count": 10,
   "id": "8aef6009-a1ed-4c3b-bbd6-c47e761bafeb",
   "metadata": {
    "executionCancelledAt": null,
    "executionTime": 52,
    "lastExecutedAt": 1721429565430,
    "lastExecutedByKernel": "34df1136-a01a-4dc6-a248-52bb3fa25dae",
    "lastScheduledRunId": null,
    "lastSuccessfullyExecutedCode": "largest_std_dev = largest_std_dev.rename(columns={'count':'num_schools','mean':'average_SAT','std':'std_SAT'})\nprint(largest_std_dev)",
    "outputsMetadata": {
     "0": {
      "height": 80,
      "type": "stream"
     }
    }
   },
   "outputs": [
    {
     "name": "stdout",
     "output_type": "stream",
     "text": [
      "           num_schools  average_SAT  std_SAT\n",
      "borough                                     \n",
      "Manhattan           89      1340.13   230.29\n"
     ]
    }
   ],
   "source": [
    "largest_std_dev = largest_std_dev.rename(columns={'count':'num_schools','mean':'average_SAT','std':'std_SAT'})\n",
    "print(largest_std_dev)"
   ]
  },
  {
   "cell_type": "code",
   "execution_count": null,
   "id": "43219dfe-5046-4d16-87ae-b19bee980cf0",
   "metadata": {},
   "outputs": [],
   "source": []
  }
 ],
 "metadata": {
  "editor": "DataLab",
  "kernelspec": {
   "display_name": "Python 3 (ipykernel)",
   "language": "python",
   "name": "python3"
  },
  "language_info": {
   "codemirror_mode": {
    "name": "ipython",
    "version": 3
   },
   "file_extension": ".py",
   "mimetype": "text/x-python",
   "name": "python",
   "nbconvert_exporter": "python",
   "pygments_lexer": "ipython3",
   "version": "3.11.7"
  }
 },
 "nbformat": 4,
 "nbformat_minor": 5
}
